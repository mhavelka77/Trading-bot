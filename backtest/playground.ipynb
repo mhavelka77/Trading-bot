{
 "cells": [
  {
   "cell_type": "code",
   "execution_count": 1,
   "metadata": {},
   "outputs": [
    {
     "name": "stderr",
     "output_type": "stream",
     "text": [
      "100%|██████████| 80/80 [01:43<00:00,  1.29s/it]"
     ]
    },
    {
     "name": "stdout",
     "output_type": "stream",
     "text": [
      "The indicator martin_4 was tested on 63920 scenarios. n_trades = 2936      Trade-rate = 0.04593241551939925      Win-rate = 0.23399182561307902\n"
     ]
    },
    {
     "name": "stderr",
     "output_type": "stream",
     "text": [
      "\n"
     ]
    }
   ],
   "source": [
    "import os\n",
    "while not os.path.isfile('config.yaml'):\n",
    "    os.chdir(\"../\")\n",
    "from backtest import combined_backtest\n",
    "import strategies as strategies\n",
    "\n",
    "combined_backtest(strategies.martin_4, tp=0.02, sl=0.01, timeframe=\"15\", limit=1000, window_size=200, n_processes=10, history=False)"
   ]
  },
  {
   "cell_type": "markdown",
   "metadata": {},
   "source": [
    "# testing whatever"
   ]
  },
  {
   "cell_type": "code",
   "execution_count": 1,
   "metadata": {},
   "outputs": [],
   "source": [
    "import os\n",
    "while not os.path.isfile('config.yaml'):\n",
    "    os.chdir(\"../\")\n",
    "import pandas as pd\n",
    "import yaml\n",
    "\n",
    "with open('config.yaml', 'r') as f:\n",
    "    config = yaml.safe_load(f)\n",
    "\n",
    "from api.api import Api\n",
    "api = Api.create_api(config)"
   ]
  },
  {
   "cell_type": "code",
   "execution_count": 2,
   "metadata": {},
   "outputs": [],
   "source": [
    "data = api.klines(\"DOGEUSDT\")"
   ]
  },
  {
   "cell_type": "code",
   "execution_count": 3,
   "metadata": {},
   "outputs": [
    {
     "data": {
      "text/html": [
       "<div>\n",
       "<style scoped>\n",
       "    .dataframe tbody tr th:only-of-type {\n",
       "        vertical-align: middle;\n",
       "    }\n",
       "\n",
       "    .dataframe tbody tr th {\n",
       "        vertical-align: top;\n",
       "    }\n",
       "\n",
       "    .dataframe thead th {\n",
       "        text-align: right;\n",
       "    }\n",
       "</style>\n",
       "<table border=\"1\" class=\"dataframe\">\n",
       "  <thead>\n",
       "    <tr style=\"text-align: right;\">\n",
       "      <th></th>\n",
       "      <th>Open</th>\n",
       "      <th>High</th>\n",
       "      <th>Low</th>\n",
       "      <th>Close</th>\n",
       "      <th>Volume</th>\n",
       "      <th>Turnover</th>\n",
       "    </tr>\n",
       "    <tr>\n",
       "      <th>Time</th>\n",
       "      <th></th>\n",
       "      <th></th>\n",
       "      <th></th>\n",
       "      <th></th>\n",
       "      <th></th>\n",
       "      <th></th>\n",
       "    </tr>\n",
       "  </thead>\n",
       "  <tbody>\n",
       "    <tr>\n",
       "      <th>2024-04-25 04:44:46.464</th>\n",
       "      <td>0.15047</td>\n",
       "      <td>0.15097</td>\n",
       "      <td>0.15039</td>\n",
       "      <td>0.15091</td>\n",
       "      <td>6817878.0</td>\n",
       "      <td>1.028015e+06</td>\n",
       "    </tr>\n",
       "    <tr>\n",
       "      <th>2024-04-25 05:00:03.968</th>\n",
       "      <td>0.15091</td>\n",
       "      <td>0.15096</td>\n",
       "      <td>0.14989</td>\n",
       "      <td>0.15036</td>\n",
       "      <td>10204012.0</td>\n",
       "      <td>1.534580e+06</td>\n",
       "    </tr>\n",
       "    <tr>\n",
       "      <th>2024-04-25 05:15:21.472</th>\n",
       "      <td>0.15036</td>\n",
       "      <td>0.15066</td>\n",
       "      <td>0.15002</td>\n",
       "      <td>0.15056</td>\n",
       "      <td>7802735.0</td>\n",
       "      <td>1.173617e+06</td>\n",
       "    </tr>\n",
       "    <tr>\n",
       "      <th>2024-04-25 05:30:38.976</th>\n",
       "      <td>0.15056</td>\n",
       "      <td>0.15158</td>\n",
       "      <td>0.15055</td>\n",
       "      <td>0.15152</td>\n",
       "      <td>7655364.0</td>\n",
       "      <td>1.157227e+06</td>\n",
       "    </tr>\n",
       "    <tr>\n",
       "      <th>2024-04-25 05:45:56.480</th>\n",
       "      <td>0.15152</td>\n",
       "      <td>0.15174</td>\n",
       "      <td>0.15106</td>\n",
       "      <td>0.15112</td>\n",
       "      <td>6778114.0</td>\n",
       "      <td>1.026581e+06</td>\n",
       "    </tr>\n",
       "    <tr>\n",
       "      <th>...</th>\n",
       "      <td>...</td>\n",
       "      <td>...</td>\n",
       "      <td>...</td>\n",
       "      <td>...</td>\n",
       "      <td>...</td>\n",
       "      <td>...</td>\n",
       "    </tr>\n",
       "    <tr>\n",
       "      <th>2024-05-05 13:14:12.864</th>\n",
       "      <td>0.15990</td>\n",
       "      <td>0.16171</td>\n",
       "      <td>0.15989</td>\n",
       "      <td>0.16064</td>\n",
       "      <td>63541595.0</td>\n",
       "      <td>1.022834e+07</td>\n",
       "    </tr>\n",
       "    <tr>\n",
       "      <th>2024-05-05 13:29:30.368</th>\n",
       "      <td>0.16064</td>\n",
       "      <td>0.16140</td>\n",
       "      <td>0.15956</td>\n",
       "      <td>0.16125</td>\n",
       "      <td>40497083.0</td>\n",
       "      <td>6.504124e+06</td>\n",
       "    </tr>\n",
       "    <tr>\n",
       "      <th>2024-05-05 13:44:47.872</th>\n",
       "      <td>0.16125</td>\n",
       "      <td>0.16125</td>\n",
       "      <td>0.16037</td>\n",
       "      <td>0.16064</td>\n",
       "      <td>17675398.0</td>\n",
       "      <td>2.840029e+06</td>\n",
       "    </tr>\n",
       "    <tr>\n",
       "      <th>2024-05-05 14:00:05.376</th>\n",
       "      <td>0.16064</td>\n",
       "      <td>0.16065</td>\n",
       "      <td>0.15982</td>\n",
       "      <td>0.16015</td>\n",
       "      <td>19540205.0</td>\n",
       "      <td>3.129295e+06</td>\n",
       "    </tr>\n",
       "    <tr>\n",
       "      <th>2024-05-05 14:15:22.880</th>\n",
       "      <td>0.16015</td>\n",
       "      <td>0.16055</td>\n",
       "      <td>0.15992</td>\n",
       "      <td>0.16008</td>\n",
       "      <td>8490571.0</td>\n",
       "      <td>1.360233e+06</td>\n",
       "    </tr>\n",
       "  </tbody>\n",
       "</table>\n",
       "<p>999 rows × 6 columns</p>\n",
       "</div>"
      ],
      "text/plain": [
       "                            Open     High      Low    Close      Volume  \\\n",
       "Time                                                                      \n",
       "2024-04-25 04:44:46.464  0.15047  0.15097  0.15039  0.15091   6817878.0   \n",
       "2024-04-25 05:00:03.968  0.15091  0.15096  0.14989  0.15036  10204012.0   \n",
       "2024-04-25 05:15:21.472  0.15036  0.15066  0.15002  0.15056   7802735.0   \n",
       "2024-04-25 05:30:38.976  0.15056  0.15158  0.15055  0.15152   7655364.0   \n",
       "2024-04-25 05:45:56.480  0.15152  0.15174  0.15106  0.15112   6778114.0   \n",
       "...                          ...      ...      ...      ...         ...   \n",
       "2024-05-05 13:14:12.864  0.15990  0.16171  0.15989  0.16064  63541595.0   \n",
       "2024-05-05 13:29:30.368  0.16064  0.16140  0.15956  0.16125  40497083.0   \n",
       "2024-05-05 13:44:47.872  0.16125  0.16125  0.16037  0.16064  17675398.0   \n",
       "2024-05-05 14:00:05.376  0.16064  0.16065  0.15982  0.16015  19540205.0   \n",
       "2024-05-05 14:15:22.880  0.16015  0.16055  0.15992  0.16008   8490571.0   \n",
       "\n",
       "                             Turnover  \n",
       "Time                                   \n",
       "2024-04-25 04:44:46.464  1.028015e+06  \n",
       "2024-04-25 05:00:03.968  1.534580e+06  \n",
       "2024-04-25 05:15:21.472  1.173617e+06  \n",
       "2024-04-25 05:30:38.976  1.157227e+06  \n",
       "2024-04-25 05:45:56.480  1.026581e+06  \n",
       "...                               ...  \n",
       "2024-05-05 13:14:12.864  1.022834e+07  \n",
       "2024-05-05 13:29:30.368  6.504124e+06  \n",
       "2024-05-05 13:44:47.872  2.840029e+06  \n",
       "2024-05-05 14:00:05.376  3.129295e+06  \n",
       "2024-05-05 14:15:22.880  1.360233e+06  \n",
       "\n",
       "[999 rows x 6 columns]"
      ]
     },
     "execution_count": 3,
     "metadata": {},
     "output_type": "execute_result"
    }
   ],
   "source": [
    "data"
   ]
  },
  {
   "cell_type": "code",
   "execution_count": null,
   "metadata": {},
   "outputs": [],
   "source": []
  },
  {
   "cell_type": "code",
   "execution_count": null,
   "metadata": {},
   "outputs": [],
   "source": []
  }
 ],
 "metadata": {
  "kernelspec": {
   "display_name": "Python 3",
   "language": "python",
   "name": "python3"
  },
  "language_info": {
   "codemirror_mode": {
    "name": "ipython",
    "version": 3
   },
   "file_extension": ".py",
   "mimetype": "text/x-python",
   "name": "python",
   "nbconvert_exporter": "python",
   "pygments_lexer": "ipython3",
   "version": "3.9.6"
  }
 },
 "nbformat": 4,
 "nbformat_minor": 2
}
