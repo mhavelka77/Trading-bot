{
 "cells": [
  {
   "cell_type": "markdown",
   "metadata": {},
   "source": [
    "## Data prep"
   ]
  },
  {
   "cell_type": "code",
   "execution_count": null,
   "metadata": {},
   "outputs": [],
   "source": [
    "import os\n",
    "while not os.path.isfile('config.yaml'):\n",
    "    os.chdir(\"../\")\n",
    "import pandas as pd\n",
    "import yaml\n",
    "\n",
    "with open('config.yaml', 'r') as f:\n",
    "    config = yaml.safe_load(f)\n",
    "\n",
    "from api.api import Api\n",
    "api = Api.create_api(config)"
   ]
  },
  {
   "cell_type": "markdown",
   "metadata": {},
   "source": [
    "# Breakout model"
   ]
  },
  {
   "cell_type": "code",
   "execution_count": null,
   "metadata": {},
   "outputs": [],
   "source": [
    "from ml.paralel import driver_func, features_b\n",
    "\n",
    "train_results = driver_func()\n",
    "train_data = pd.DataFrame([element for sublist in train_results for element in sublist])\n",
    "#train_data['target'] = train_data['target'] + 1\n",
    "\n",
    "test_results = driver_func(test=True)\n",
    "test_data = pd.DataFrame([element for sublist in test_results for element in sublist])\n",
    "#test_data['target'] = test_data['target'] + 1\n",
    "\n",
    "X_train = train_data[features_b]\n",
    "X_test = test_data[features_b]\n",
    "\n",
    "y_train = train_data['target']\n",
    "y_test = test_data['target']\n"
   ]
  },
  {
   "cell_type": "code",
   "execution_count": null,
   "metadata": {},
   "outputs": [],
   "source": [
    "counts = y_test.value_counts()\n",
    "counts, counts[1] / len(y_train) "
   ]
  },
  {
   "cell_type": "code",
   "execution_count": null,
   "metadata": {},
   "outputs": [],
   "source": [
    "from xgboost import XGBClassifier\n",
    "from sklearn.metrics import accuracy_score\n",
    "import collections\n",
    "from sklearn.utils.class_weight import compute_sample_weight\n",
    "import optuna\n",
    "\n",
    "sample_weights = compute_sample_weight(class_weight='balanced', y=y_train)\n",
    "\n",
    "def objective(trial):\n",
    "    param = {\n",
    "        'n_estimators': trial.suggest_int('n_estimators', 10, 200),\n",
    "        'max_depth': trial.suggest_int('max_depth', 3, 25),\n",
    "        'min_child_weight': trial.suggest_int('min_child_weight', 1, 10),\n",
    "        'eta': trial.suggest_float('eta', 0.01, 0.3),\n",
    "        'subsample': trial.suggest_float('subsample', 0.5, 1.0),\n",
    "        'colsample_bytree': trial.suggest_float('colsample_bytree', 0.5, 1.0)\n",
    "    }\n",
    "    \n",
    "    model = XGBClassifier(**param)\n",
    "    model.fit(X_train, y_train, sample_weight=sample_weights)\n",
    "    y_pred = model.predict(X_test)\n",
    "\n",
    "    fil_pred = [y_pred[i] for i in range(len(y_pred)) if y_pred[i] == 1] \n",
    "    fil_test = [y_test[i] for i in range(len(y_pred)) if y_pred[i] == 1] \n",
    "\n",
    "    acc = accuracy_score(fil_pred, fil_test)\n",
    "    counter = collections.Counter(y_pred)\n",
    "    traderate = counter[1] / len(y_pred)\n",
    "    print(f'winrate: {acc}, traderate: {traderate}')\n",
    "    return 0.0*traderate + acc\n",
    "\n",
    "\n",
    "\n",
    "study = optuna.create_study(direction='maximize')\n",
    "study.optimize(objective, n_trials=20)\n",
    "best_params = study.best_params\n",
    "\n",
    "print(\"Best parameters:\", best_params)\n",
    "model = XGBClassifier(**best_params)\n",
    "model.fit(X_train, y_train, sample_weight=sample_weights)\n",
    "\n",
    "y_pred = model.predict(X_test)\n",
    "fil_pred = [y_pred[i] for i in range(len(y_pred)) if y_pred[i] == 1] \n",
    "fil_test = [y_test[i] for i in range(len(y_pred)) if y_pred[i] == 1] \n",
    "\n",
    "acc = accuracy_score(fil_pred, fil_test)\n",
    "\n",
    "\n",
    "model.save_model('./ml/breakout_model.json')\n",
    "counter = collections.Counter(y_pred)\n",
    "print(f'winrate: {acc}', f'traderate: {counter[1] / len(y_pred)}')\n",
    "\n",
    "from xgboost import plot_importance\n",
    "plot_importance(model)\n",
    "    "
   ]
  },
  {
   "cell_type": "markdown",
   "metadata": {},
   "source": [
    "# Direction model"
   ]
  },
  {
   "cell_type": "code",
   "execution_count": null,
   "metadata": {},
   "outputs": [],
   "source": [
    "from ml.paralel import driver_func, features_d\n",
    "\n",
    "train_results = driver_func(direction=True)\n",
    "train_data = pd.DataFrame([element for sublist in train_results for element in sublist])\n",
    "train_data['target'] = train_data['target'] + 1\n",
    "\n",
    "test_results = driver_func(test=True, direction=True)\n",
    "test_data = pd.DataFrame([element for sublist in test_results for element in sublist])\n",
    "test_data['target'] = test_data['target'] + 1\n",
    "\n",
    "classes = [2, 0]\n",
    "\n",
    "train_data = train_data[train_data.target.isin(classes)]\n",
    "test_data = test_data[test_data.target.isin(classes)]\n",
    "\n",
    "X_train = train_data[features_d]\n",
    "X_test = test_data[features_d]\n",
    "\n",
    "y_train = train_data['target']\n",
    "y_test = test_data['target']\n",
    "\n",
    "\n",
    "y_train = y_train // 2\n",
    "y_test = y_test // 2\n"
   ]
  },
  {
   "cell_type": "code",
   "execution_count": null,
   "metadata": {},
   "outputs": [],
   "source": [
    "counts = y_test.value_counts()\n",
    "counts"
   ]
  },
  {
   "cell_type": "code",
   "execution_count": null,
   "metadata": {},
   "outputs": [],
   "source": [
    "from xgboost import XGBClassifier\n",
    "from sklearn.metrics import accuracy_score\n",
    "import collections\n",
    "from sklearn.utils.class_weight import compute_sample_weight\n",
    "import optuna\n",
    "\n",
    "def objective(trial):\n",
    "    param = {\n",
    "        'n_estimators': trial.suggest_int('n_estimators', 10, 200),\n",
    "        'max_depth': trial.suggest_int('max_depth', 3, 25),\n",
    "        'min_child_weight': trial.suggest_int('min_child_weight', 1, 10),\n",
    "        'eta': trial.suggest_float('eta', 0.01, 0.3),\n",
    "        'subsample': trial.suggest_float('subsample', 0.5, 1.0),\n",
    "        'colsample_bytree': trial.suggest_float('colsample_bytree', 0.5, 1.0)\n",
    "    }\n",
    "    model = XGBClassifier(**param)\n",
    "    model.fit(X_train, y_train)\n",
    "    y_pred = model.predict(X_test)\n",
    "\n",
    "    acc = accuracy_score(y_test, y_pred)\n",
    "    return acc \n",
    "\n",
    "\n",
    "\n",
    "study = optuna.create_study(direction='maximize')\n",
    "study.optimize(objective, n_trials=100)\n",
    "best_params = study.best_params\n",
    "\n",
    "print(\"Best parameters:\", best_params)\n",
    "model = XGBClassifier(**best_params)\n",
    "model.fit(X_train, y_train)\n",
    "\n",
    "y_pred = model.predict(X_test)\n",
    "\n",
    "\n",
    "acc = accuracy_score(y_pred, y_test)\n",
    "\n",
    "model.save_model('./ml/direction_model.json')\n",
    "counter = collections.Counter(y_pred)\n",
    "print(f'winrate: {acc}')\n",
    "\n",
    "from xgboost import plot_importance\n",
    "plot_importance(model)"
   ]
  },
  {
   "cell_type": "code",
   "execution_count": null,
   "metadata": {},
   "outputs": [],
   "source": []
  },
  {
   "cell_type": "code",
   "execution_count": null,
   "metadata": {},
   "outputs": [],
   "source": []
  }
 ],
 "metadata": {
  "kernelspec": {
   "display_name": "Python 3",
   "language": "python",
   "name": "python3"
  },
  "language_info": {
   "codemirror_mode": {
    "name": "ipython",
    "version": 3
   },
   "file_extension": ".py",
   "mimetype": "text/x-python",
   "name": "python",
   "nbconvert_exporter": "python",
   "pygments_lexer": "ipython3",
   "version": "3.9.6"
  }
 },
 "nbformat": 4,
 "nbformat_minor": 2
}
